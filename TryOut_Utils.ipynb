{
 "cells": [
  {
   "cell_type": "markdown",
   "metadata": {},
   "source": [
    "<h1 style=\"color:blue;text-align:center\">Game of Life Utils</h1> "
   ]
  },
  {
   "cell_type": "markdown",
   "metadata": {},
   "source": [
    "<a id=\"tdm\"></a>\n",
    "<h2 style=\"color:green\"> Table des matières </h2>\n",
    "\n",
    "<a href=\"#Moteur\" style=\"color:black;text-decoration:none;\"><span style=\"color:#337ab7;text-decoration: underline;margin-left:0em;font-weight:bold;\">Partie Moteur du Jeu</span></a>\n",
    "<br>\n",
    "<a href=\"#Interface\" style=\"color:black;text-decoration:none;\"><span style=\"color:#337ab7;text-decoration: underline;margin-left:0em;font-weight:bold;\">Partie Interface</span></a>\n",
    "<br>\n",
    "<a href=\"#Save\" style=\"color:black;text-decoration:none;\"><span style=\"color:#337ab7;text-decoration: underline;margin-left:0em;font-weight:bold;\">Partie Sauvegarde et Chargement</span></a>\n",
    "<br>\n",
    "<a href=\"#BoutonPause\" style=\"color:black;text-decoration:none;\"><span style=\"color:#337ab7;text-decoration: underline;margin-left:0em;font-weight:bold;\">Bouton pause</span></a>\n",
    "<br>"
   ]
  },
  {
   "cell_type": "markdown",
   "metadata": {},
   "source": [
    "<a id=\"Moteur\"></a>\n",
    "<h2 style=\"color:Green\">Fonctions Moteur du Jeu</h2>"
   ]
  },
  {
   "cell_type": "markdown",
   "metadata": {},
   "source": [
    "[Retour à la Table des matières](#tdm)"
   ]
  },
  {
   "cell_type": "code",
   "execution_count": null,
   "metadata": {},
   "outputs": [],
   "source": [
    "#####################################################################################\n",
    "\n",
    "def grille():\n",
    "    \"\"\" Calcule et dessine la nouvelle grille \"\"\"\n",
    "    protocole() ,draw(), draw_button_pause()\n",
    "    pygame.display.flip()  # Rafraîchit l'affichage\n",
    "\n",
    "def initialisation(dimension):\n",
    "    \"\"\" Initialisation | Renvoie la hauteur, la largeur et les matrices des etats \"\"\"\n",
    "    hauteur, largeur = dimension,dimension\n",
    "    \n",
    "    # Matrice qui gèrera l'aspect graphique des cellules (rectangles)\n",
    "    cellule = [[None for _ in range(hauteur)] for _ in range(largeur)]\n",
    "    # Matrice qui contient l'état actuel de chaque cellules [ 0=morte / 1=vivante], elles sont toutes mortes au début\n",
    "    etat = [[0 for _ in range(hauteur)] for _ in range(largeur)]\n",
    "    # Matrice qui contient le prochain état de chaque cellule (la matrice précedente prendra sa valeur)\n",
    "    etat_futur = [[0 for _ in range(hauteur)] for _ in range(largeur)]\n",
    "    \n",
    "    for y in range(hauteur):\n",
    "        for x in range(largeur):\n",
    "            etat[x][y] = 0\n",
    "            etat_futur[x][y] = 0\n",
    "            # Création des rectangles\n",
    "            cellule[x][y] = pygame.Rect(x*taille_cellule, y*taille_cellule, taille_cellule, taille_cellule) \n",
    "            \n",
    "    # Place environ 25% de cellules vivantes\n",
    "    for i in range(largeur * hauteur // 4):\n",
    "        etat[randrange(largeur)][randrange(hauteur)] = 1\n",
    "        \n",
    "    return hauteur, largeur, cellule, etat, etat_futur\n",
    "\n",
    "def initialisation_aleatoire():\n",
    "    \"\"\" Initialisation aléatoire de la grille : intervalle régulable \"\"\"\n",
    "    dimension = random.randint(50, 300)\n",
    "    hauteur, largeur, cellule, etat, etat_futur = initialisation(dimension)\n",
    "    return dimension, hauteur, largeur, cellule, etat, etat_futur\n",
    "\n",
    "def protocole():\n",
    "    \"\"\" Calcule et applique les règles \"\"\"\n",
    "    for y in range(hauteur):\n",
    "        for x in range(largeur):\n",
    "            nombre_voisins = compte_voisins_vivant(x, y)\n",
    "            # Applique les règles de survie et de naissance des cellules\n",
    "            if etat[x][y] == 1 and nombre_voisins < 2:\n",
    "                etat_futur[x][y] = 0\n",
    "            elif etat[x][y] == 1 and nombre_voisins > 3:\n",
    "                etat_futur[x][y] = 0\n",
    "            elif etat[x][y] == 1 and (nombre_voisins == 2 or nombre_voisins == 3):\n",
    "                etat_futur[x][y] = 1\n",
    "            elif etat[x][y] == 0 and nombre_voisins == 3:\n",
    "                etat_futur[x][y] = 1\n",
    "        \n",
    "    for y in range(hauteur):\n",
    "        for x in range(largeur):\n",
    "            etat[x][y] = etat_futur[x][y]\n",
    "\n",
    "def compte_voisins_vivant(x, y):\n",
    "    \"\"\" Calcul et renvoie le nombre de cellules voisines en vie (tableau torique) \"\"\"\n",
    "    nb_voisins = 0\n",
    "    # On definit une matrice contenant les coordonnées de tous les voisins d'une cellule x=0 et y=0\n",
    "    directions = [(-1, 1), (0, 1), (1, 1), (-1, 0), (1, 0), (-1, -1), (0, -1), (1, -1)]\n",
    "    \n",
    "    for dx, dy in directions:\n",
    "        # on utilise le % pour que le bord gauche soit connecté au bord droit, \n",
    "        # et le bord supérieur soit connecté au bord inférieur\n",
    "        if etat[(x + dx) % largeur][(y + dy) % hauteur] == 1:\n",
    "            nb_voisins += 1\n",
    "    return nb_voisins\n",
    "\n",
    "#####################################################################################"
   ]
  },
  {
   "cell_type": "markdown",
   "metadata": {},
   "source": [
    "<a id=\"Interface\"></a>\n",
    "<h2 style=\"color:Green\">Partie Interface</h2>"
   ]
  },
  {
   "cell_type": "markdown",
   "metadata": {},
   "source": [
    "[Retour à la Table des matières](#tdm)"
   ]
  },
  {
   "cell_type": "code",
   "execution_count": null,
   "metadata": {},
   "outputs": [],
   "source": [
    "#####################################################################################\n",
    "\n",
    "def draw():\n",
    "    \"\"\" Dessine / Redessine toutes les cellules \"\"\"\n",
    "    fenetre.fill((174, 214, 241))  # Fond\n",
    "    \n",
    "    for y in range(hauteur):\n",
    "        for x in range(largeur):\n",
    "            couleur = (0, 0, 0) if etat[x][y] == 1 else (174, 214, 241)\n",
    "            pygame.draw.rect(fenetre, couleur, cellule[x][y])\n",
    "    \n",
    "    # Dessiner le cadre noir à droite\n",
    "    cadre_largeur = largeur_panel_droit  # Largeur du cadre\n",
    "    cadre_rect = pygame.Rect(taille_cellule * largeur, 0, cadre_largeur, taille_cellule * hauteur)\n",
    "    # Dessiner le rectangle blanc à l'intérieur du cadre\n",
    "    centre_rect = pygame.Rect(taille_cellule * largeur + 10, 10, cadre_largeur - 20, taille_cellule * hauteur - 20)\n",
    "    pygame.draw.rect(fenetre, (40, 116, 166), centre_rect) # Cadre de droite\n",
    "    # Dessiner le contour noir\n",
    "    pygame.draw.rect(fenetre, (21, 67, 96), cadre_rect, 10)  # Le dernier argument (2) définit l'épaisseur du contour\n",
    "\n",
    "def modifie_etat_cellule(x, y):\n",
    "    \"\"\" Modifie l'état de la cellule aux coordonnées x,y (largeur, hauteur) à chaque clic de souris \"\"\"\n",
    "    if x <= largeur * taille_cellule and y <= hauteur * taille_cellule:\n",
    "        # Calcule les indices de la cellule cliquée\n",
    "        colonne = x // taille_cellule\n",
    "        ligne = y // taille_cellule\n",
    "        \n",
    "        # Inverse l'état de la cellule\n",
    "        etat[colonne][ligne] = 1 if etat[colonne][ligne] == 0 else 0\n",
    "        \n",
    "        # Permet d'afficher le nouvelle etat directement\n",
    "        draw(), draw_button_pause()\n",
    "        pygame.display.flip() \n",
    "        print(f\"Cellule à ({colonne}, {ligne}) maintenant {'vivante' if etat[colonne][ligne] == 1 else 'morte'}\")\n",
    "    \n",
    "#####################################################################################    "
   ]
  },
  {
   "cell_type": "markdown",
   "metadata": {},
   "source": [
    "<a id=\"Save\"></a>\n",
    "<h2 style=\"color:Green\">Partie Sauvegarde et Chargement </h2>"
   ]
  },
  {
   "cell_type": "markdown",
   "metadata": {},
   "source": [
    "[Retour à la Table des matières](#tdm)"
   ]
  },
  {
   "cell_type": "code",
   "execution_count": null,
   "metadata": {},
   "outputs": [],
   "source": [
    "def save_grille(fichier):\n",
    "    \"\"\" Sauvegarde l'état actuel de la grille dans un fichier CSV avec pandas \"\"\"\n",
    "    df = pd.DataFrame(etat)\n",
    "    df.to_csv(fichier, index=False, header=False)\n",
    "    print(f\"Grille sauvegardée dans {fichier}\")"
   ]
  },
  {
   "cell_type": "markdown",
   "metadata": {},
   "source": [
    "<a id=\"BoutonPause\"></a>\n",
    "<h2 style=\"color:Green\">Bouton pause</h2>"
   ]
  },
  {
   "cell_type": "markdown",
   "metadata": {},
   "source": [
    "[Retour à la Table des matières](#tdm)"
   ]
  },
  {
   "cell_type": "code",
   "execution_count": null,
   "metadata": {},
   "outputs": [],
   "source": [
    "def draw_button_pause():\n",
    "    \"\"\" Dessine le bouton pause dans le cadre de droite \"\"\"\n",
    "    global bouton_pause_rect\n",
    "    \n",
    "    # Définir la position et la taille du bouton\n",
    "    bouton_pause_rect = pygame.Rect(taille_cellule * largeur + 50, 50, 300, 50)\n",
    "    \n",
    "    # Choisir la couleur du bouton (s’éclaircit au survol)\n",
    "    couleur_bouton = (214, 234, 248)\n",
    "    pygame.draw.rect(fenetre, couleur_bouton, bouton_pause_rect)  # Dessiner le bouton\n",
    "    \n",
    "    # Ajouter le texte \"Pause\" ou \"Reprendre\"\n",
    "    font = pygame.font.SysFont(None, 30)\n",
    "    texte = font.render(\"REPRENDRE\" if en_pause else \"PAUSE\", True, (21, 67, 96))\n",
    "    \n",
    "    # Calculer la position pour centrer le texte dans le bouton\n",
    "    texte_x = bouton_pause_rect.x + (bouton_pause_rect.width - texte.get_width()) // 2\n",
    "    texte_y = bouton_pause_rect.y + (bouton_pause_rect.height - texte.get_height()) // 2\n",
    "    \n",
    "    # Dessiner le texte au centre du bouton\n",
    "    fenetre.blit(texte, (texte_x, texte_y))\n",
    "\n",
    "def toggle_pause(pos_x, pos_y):\n",
    "    \"\"\" Basculer entre pause et reprise en fonction de la position du clic \"\"\"\n",
    "    global en_pause\n",
    "    if bouton_pause_rect.collidepoint(pos_x, pos_y):  # Vérifie si le clic est sur le bouton pause\n",
    "        en_pause = not en_pause  # Inverser l'état de pause\n",
    "        draw_button_pause()\n",
    "        pygame.display.flip()\n",
    "        print(\"Jeu en pause\" if en_pause else \"Relancement du jeu\")\n",
    "        \n",
    "        \n"
   ]
  },
  {
   "cell_type": "code",
   "execution_count": null,
   "metadata": {},
   "outputs": [],
   "source": []
  }
 ],
 "metadata": {
  "kernelspec": {
   "display_name": "Python 3",
   "language": "python",
   "name": "python3"
  },
  "language_info": {
   "codemirror_mode": {
    "name": "ipython",
    "version": 3
   },
   "file_extension": ".py",
   "mimetype": "text/x-python",
   "name": "python",
   "nbconvert_exporter": "python",
   "pygments_lexer": "ipython3",
   "version": "3.8.5"
  }
 },
 "nbformat": 4,
 "nbformat_minor": 4
}
