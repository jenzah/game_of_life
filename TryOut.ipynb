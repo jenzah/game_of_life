{
 "cells": [
  {
   "cell_type": "code",
   "execution_count": null,
   "metadata": {
    "scrolled": true
   },
   "outputs": [],
   "source": [
    "##################################### IMPORTS #######################################\n",
    "\n",
    "import pygame\n",
    "import numpy as np\n",
    "from random import randrange\n",
    "import random\n",
    "import pandas as pd\n",
    "import sys\n",
    "\n",
    "%run ./TryOut_Utils.ipynb\n",
    "\n",
    "#####################################################################################\n",
    "############################## NOUVELLES FONCTIONS ICI ##############################\n",
    "\n",
    "\n",
    "\n",
    "#####################################################################################\n",
    "################################# VARIABLES GLOBALES ################################\n",
    "\n",
    "# Variables de jeu pour la fonctionnalité pause\n",
    "en_pause = False  # État de pause\n",
    "bouton_pause_rect = None  # Rectangle du bouton pause\n",
    "\n",
    "#####################################################################################\n",
    "##################################### LANCEMENT #####################################\n",
    "\n",
    "# Initialisation de pygame et de la fenêtre\n",
    "pygame.init()\n",
    "\n",
    "# Initialisation du jeu\n",
    "taille_cellule = 3\n",
    "dimension = 100\n",
    "#hauteur, largeur, cellule, etat, etat_futur = initialisation(dimension)\n",
    "dimension, hauteur, largeur, cellule, etat, etat_futur = initialisation_aleatoire() # pour initialiser aléatoirement la grille\n",
    "\n",
    "# Creation fenetre : elle sera de largeur : taille_cellule*largeur et hauteur : taille_cellule*hauteur  \n",
    "largeur_panel_droit = 400\n",
    "fenetre = pygame.display.set_mode((taille_cellule*largeur + largeur_panel_droit, taille_cellule*hauteur))\n",
    "pygame.display.set_caption(\"Projet : Jeu de la vie\")  \n",
    "    \n",
    "# Boucle de jeu\n",
    "running = True\n",
    "while running:\n",
    "    for event in pygame.event.get():\n",
    "        if event.type == pygame.QUIT:\n",
    "            running = False\n",
    "        elif event.type == pygame.MOUSEBUTTONDOWN:  # Vérifie si un clic de souris a eu lieu\n",
    "            pos_x, pos_y = pygame.mouse.get_pos()  # Récupère les coordonnées de la souris\n",
    "            if pos_x > taille_cellule * largeur:  # Vérifie si le clic est dans le cadre droit\n",
    "                toggle_pause(pos_x, pos_y)  # Basculer pause si le bouton pause est cliqué\n",
    "            else:\n",
    "                modifie_etat_cellule(pos_x, pos_y)\n",
    "        elif event.type == pygame.KEYDOWN: #Appuyer sur S pour lancer la sauvegarde\n",
    "            if event.key == pygame.K_s:  \n",
    "                save_grille(\"grille_sauvegarde.csv\")\n",
    "            \n",
    "    # Mise à jour et affichage de la grille\n",
    "    if not en_pause:\n",
    "        grille()  # Actualiser la grille seulement si en_pause est False\n",
    "        \n",
    "    pygame.time.delay(20)  # Vitesse de l'animation (combien de miliseconde entre chaque changement d'état)\n",
    "\n",
    "# Fermeture de pygame\n",
    "pygame.quit()\n",
    "\n",
    "#####################################################################################"
   ]
  },
  {
   "cell_type": "code",
   "execution_count": null,
   "metadata": {},
   "outputs": [],
   "source": []
  }
 ],
 "metadata": {
  "kernelspec": {
   "display_name": "Python 3",
   "language": "python",
   "name": "python3"
  },
  "language_info": {
   "codemirror_mode": {
    "name": "ipython",
    "version": 3
   },
   "file_extension": ".py",
   "mimetype": "text/x-python",
   "name": "python",
   "nbconvert_exporter": "python",
   "pygments_lexer": "ipython3",
   "version": "3.8.5"
  }
 },
 "nbformat": 4,
 "nbformat_minor": 4
}
